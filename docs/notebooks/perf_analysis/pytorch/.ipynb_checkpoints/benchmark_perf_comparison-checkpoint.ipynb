{
 "cells": [
  {
   "cell_type": "markdown",
   "metadata": {},
   "source": [
    "#  Compare Model Zoo Benchmark performance between Intel optimized and stock PyTorch\n",
    "\n",
    "This jupyter notebook will help you evaluate performance benefits from Intel-optimized Tensorflow via several pre-trained models from Intel Model Zoo. \n",
    "The notebook will show users a bar chart like below for performance comparison among Stock and Intel Tensorflow."
   ]
  },
  {
   "cell_type": "markdown",
   "metadata": {},
   "source": [
    "<img src=\"images\\perf_comparison.png\"  />"
   ]
  },
  {
   "cell_type": "markdown",
   "metadata": {},
   "source": [
    "# Get Platform Information "
   ]
  },
  {
   "cell_type": "code",
   "execution_count": 1,
   "metadata": {},
   "outputs": [],
   "source": [
    "# ignore all warning messages\n",
    "import warnings\n",
    "warnings.filterwarnings('ignore')"
   ]
  },
  {
   "cell_type": "code",
   "execution_count": 2,
   "metadata": {},
   "outputs": [
    {
     "name": "stdout",
     "output_type": "stream",
     "text": [
      "/tmp/models/docs/notebooks/perf_analysis/pytorch/profiling/../../../../../benchmarks/common\n",
      "==================== CPU Info ====================\n",
      "Physical cores per socket: 28\n",
      "Total physical cores: 56\n",
      "Max Frequency: 4000.0\n",
      "Min Frequency: 1000.0\n",
      "Socket Number: 2\n",
      "==================== Memory Information ====================\n",
      "Total:  251 GB\n"
     ]
    }
   ],
   "source": [
    "from profiling.profile_utils import PlatformUtils\n",
    "plat_utils = PlatformUtils()\n",
    "plat_utils.dump_platform_info()"
   ]
  },
  {
   "cell_type": "markdown",
   "metadata": {},
   "source": [
    "<a id='section_1'></a>\n",
    "# Section 1: Run the benchmark on the selected Jupyter Kernels"
   ]
  },
  {
   "cell_type": "markdown",
   "metadata": {},
   "source": [
    "## Step 1: Check TensorFlow version and MKL enablement"
   ]
  },
  {
   "cell_type": "code",
   "execution_count": 3,
   "metadata": {
    "scrolled": true
   },
   "outputs": [
    {
     "name": "stdout",
     "output_type": "stream",
     "text": [
      "We are using PyTorch version 1.7.0a0+e85d494\n",
      "IPEX version: 1.2.0\n",
      "MKL enabled: False\n"
     ]
    }
   ],
   "source": [
    "import torch\n",
    "print (\"We are using PyTorch version\", torch.__version__)\n",
    "try:\n",
    "    import intel_pytorch_extension as ipex\n",
    "    print(\"IPEX version: {}\".format(ipex.__version__))\n",
    "    has_ipex = True\n",
    "except ImportError:\n",
    "    print(\"WARNING: IPEX not available\")\n",
    "    has_ipex = False\n",
    "search_str=\"USE_MKL=\"\n",
    "offset = len(search_str)\n",
    "config_str = torch.__config__.show()\n",
    "idx = config_str.find(search_str)\n",
    "if config_str[idx+offset:idx+offset+2] == \"ON\":\n",
    "    on_mkl = True\n",
    "else:\n",
    "    on_mkl = False\n",
    "print(\"MKL enabled:\", on_mkl)"
   ]
  },
  {
   "cell_type": "markdown",
   "metadata": {},
   "source": [
    "## Step 2: Configure parameters for launch_benchmark.py according to the selected Topology"
   ]
  },
  {
   "cell_type": "markdown",
   "metadata": {},
   "source": [
    "### Step 2.1: List out the supported topologies"
   ]
  },
  {
   "cell_type": "code",
   "execution_count": 4,
   "metadata": {},
   "outputs": [
    {
     "name": "stdout",
     "output_type": "stream",
     "text": [
      "Supported topologies: \n",
      " 0: resnet50 infer fp32 \n",
      " 1: vgg16 infer fp32 \n"
     ]
    }
   ],
   "source": [
    "import sys\n",
    "from profiling.profile_utils import ConfigFile\n",
    "\n",
    "accuracy_only=False\n",
    "\n",
    "config = ConfigFile()\n",
    "sections = config.read_supported_section(accuracy_only=accuracy_only)\n",
    "print(\"Supported topologies: \")\n",
    "index = 0 \n",
    "for section in sections:\n",
    "    print(\" %d: %s \" %(index, section))\n",
    "    index+=1"
   ]
  },
  {
   "cell_type": "markdown",
   "metadata": {},
   "source": [
    "### Step 2.2: Pick a topology. \n",
    "#### ACTION : Please select one supported topology and change topo_index accordingly"
   ]
  },
  {
   "cell_type": "code",
   "execution_count": 5,
   "metadata": {},
   "outputs": [],
   "source": [
    "# User picks a topology, Batch Size, and number of required threads\n",
    "## USER INPUT\n",
    "topo_index=0"
   ]
  },
  {
   "cell_type": "markdown",
   "metadata": {},
   "source": [
    "#### List out the selected topology name"
   ]
  },
  {
   "cell_type": "code",
   "execution_count": 6,
   "metadata": {},
   "outputs": [
    {
     "name": "stdout",
     "output_type": "stream",
     "text": [
      "vgg16 infer fp32\n"
     ]
    }
   ],
   "source": [
    "if topo_index >= len(sections):\n",
    "    print(\"ERROR! please input a topo_index within range\")\n",
    "else:\n",
    "    topology_name=sections[topo_index]\n",
    "    print(topology_name)"
   ]
  },
  {
   "cell_type": "code",
   "execution_count": 7,
   "metadata": {},
   "outputs": [
    {
     "name": "stdout",
     "output_type": "stream",
     "text": [
      "/tmp/models/docs/notebooks/perf_analysis/pytorch/../../../../\n"
     ]
    }
   ],
   "source": [
    "import os\n",
    "# Users should change ModelZooRoot path according to their environment\n",
    "## USER INPUT\n",
    "current_path = os.getcwd()\n",
    "os.environ['ModelZooRoot'] = current_path + \"/../../../../\"\n",
    "print(os.environ['ModelZooRoot'])"
   ]
  },
  {
   "cell_type": "markdown",
   "metadata": {},
   "source": [
    "#### Check those mandatory python scripts after users assign ModelZooRoot and ProfileUtilsRoot"
   ]
  },
  {
   "cell_type": "code",
   "execution_count": 8,
   "metadata": {},
   "outputs": [],
   "source": [
    "sys.path.append(os.environ['ModelZooRoot']+os.sep+'benchmarks/common/')\n",
    "from platform_util import CPUInfo \n",
    "cpu_info = CPUInfo()"
   ]
  },
  {
   "cell_type": "code",
   "execution_count": 9,
   "metadata": {},
   "outputs": [
    {
     "name": "stdout",
     "output_type": "stream",
     "text": [
      "CPU count per socket: 28  \n",
      "Socket count: 2\n"
     ]
    }
   ],
   "source": [
    "import psutil\n",
    "import subprocess\n",
    "import os\n",
    "cpu_count = cpu_info.cores_per_socket\n",
    "cpu_socket_count =  cpu_info.sockets\n",
    "print(\"CPU count per socket:\" ,  cpu_count ,\" \\nSocket count:\",cpu_socket_count)"
   ]
  },
  {
   "cell_type": "markdown",
   "metadata": {},
   "source": [
    "#### ACTION: Users can change the value of thread_number and batch_size to see different performance\n",
    "1. thread_umber: the value will apply to num_cores parameters in launch_benchmark.py  \n",
    "2. utilized_socket_number:  the value will apply to the socket-id parameter in launch_benchmark.py \n",
    "3. num_inter_threads: the value will  apply to the num-inter-threads parameter in launch_benchmark.py \n",
    "4. num_intra_threads: the value will  apply to the num-intra-threads parameter in launch_benchmark.py \n",
    "5. batch_size: the value will apply to the batch_size parameter in launch_benchmark.py \n",
    "6. log_folder: the folder where the logs are stored."
   ]
  },
  {
   "cell_type": "code",
   "execution_count": 10,
   "metadata": {},
   "outputs": [],
   "source": [
    "## USER INPUT\n",
    "thread_number=2 \n",
    "utilized_socket_number=2 #cpu_socket_count\n",
    "num_inter_threads = utilized_socket_number\n",
    "num_intra_threads = thread_number\n",
    "batch_size=32\n",
    "log_folder=os.getcwd() + os.sep + \"logs\""
   ]
  },
  {
   "cell_type": "code",
   "execution_count": 11,
   "metadata": {},
   "outputs": [],
   "source": [
    "import os\n",
    "current_path = os.getcwd()\n",
    "log_dir = os.path.join(current_path, \"logs\")\n",
    "log_filename = topology_name.replace(' ', '_') + '.log'\n",
    "log_path = os.path.join(log_dir, log_filename)\n",
    "from torch.distributed import launch"
   ]
  },
  {
   "cell_type": "markdown",
   "metadata": {},
   "source": [
    "### Step 2.3: get required data and files if needed.\n",
    "No action if there is no output from this below cell."
   ]
  },
  {
   "cell_type": "code",
   "execution_count": 12,
   "metadata": {},
   "outputs": [],
   "source": [
    "# Get the parameters from config\n",
    "config = ConfigFile()\n",
    "config.read_config(topology_name)\n",
    "if config.data_download != '' and config.data_location == '':\n",
    "    print(\"\\nPlease follow below command to get the data : \")\n",
    "    val = config.read_value_from_section(topology_name, 'data-download')\n",
    "    print(val)"
   ]
  },
  {
   "cell_type": "markdown",
   "metadata": {},
   "source": [
    "#### ACTION: Users set the configuration in topo.ini for those required data and files\n",
    "1. data_download_path: the value will be set as data-location parameters in topo.ini for the related topology.\n",
    "2. model_source_dir: the value will be set as the model-source-dir parameter in topo.ini for the related topology such as Wide and Deep. Those models use tensorflow-models."
   ]
  },
  {
   "cell_type": "code",
   "execution_count": 13,
   "metadata": {},
   "outputs": [],
   "source": [
    "## USER INPUT\n",
    "data_download_path = ''\n",
    "model_source_dir = ''\n",
    "\n",
    "# Overwrite configurations in topo.ini\n",
    "config = ConfigFile()\n",
    "config.read_config(topology_name)\n",
    "\n",
    "if config.data_download != '' and data_download_path != '':\n",
    "    config.write_value_from_section(topology_name, 'data-location', data_download_path)\n",
    "    config.data_location = data_download_path\n",
    "    \n",
    "if accuracy_only == True and config.data_location == '':\n",
    "    print(\"ERROR! STOP! need data for accuacy evaluatoin!\")\n"
   ]
  },
  {
   "cell_type": "markdown",
   "metadata": {},
   "source": [
    "### Step 2.4: Prepare pre-trained model and model parameters for running the benchmark\n",
    "1. Get related parameters according to selected topology\n",
    "2. Get pretrained model if needed"
   ]
  },
  {
   "cell_type": "code",
   "execution_count": 14,
   "metadata": {
    "scrolled": true
   },
   "outputs": [
    {
     "name": "stdout",
     "output_type": "stream",
     "text": [
      "['torch.distributed.launch', '--nnodes=2', '--node_rank=2', '--nproc_per_node=2', '--use_env', '/tmp/models/docs/notebooks/perf_analysis/pytorch/../../../..//models/image_recognition/pytorch/common/main.py', '--batch-size', '32', '--arch', 'vgg16', '--dummy', '--evaluate', '--pretrained', '--ipex', '--precision', 'fp32', '--jit', '--warmup-iterations', '30', '--log-path=/tmp/models/docs/notebooks/perf_analysis/pytorch/logs/vgg16_infer_fp32.log']\n"
     ]
    }
   ],
   "source": [
    "config = ConfigFile()\n",
    "configvals = []\n",
    "# Get common parameters according to users' inputs\n",
    "params = [\"torch.distributed.launch\"]\n",
    "params.extend(config.get_launch_parameters(configvals, thread_number=thread_number,\n",
    "                                socket_number=utilized_socket_number, num_inter_threads=num_inter_threads,\n",
    "                                num_intra_threads=num_intra_threads,\n",
    "                                accuracy_only=False))\n",
    "main_script = os.environ['ModelZooRoot']+os.sep+'models/image_recognition/pytorch/common/main.py'\n",
    "params += [main_script]\n",
    "params.extend(config.get_main_parameters(topology_name = topology_name.split(\" \")[0], mode = \"infer\",\n",
    "                                         batch_size=batch_size, has_ipex = has_ipex,\n",
    "                                         precision=\"fp32\", warmup_iter=30, log_path=log_path))\n",
    "\n",
    "    \n",
    "sys.argv=params\n",
    "print(sys.argv)"
   ]
  },
  {
   "cell_type": "markdown",
   "metadata": {},
   "source": [
    "### Step 2.5: Create a CSV file to log the performance numbers"
   ]
  },
  {
   "cell_type": "code",
   "execution_count": 15,
   "metadata": {},
   "outputs": [
    {
     "name": "stdout",
     "output_type": "stream",
     "text": [
      "file exists\n"
     ]
    }
   ],
   "source": [
    "from profiling.profile_utils import PerfPresenter\n",
    "job_type = topology_name.split(' ')[1]#'inference'\n",
    "csv_fname=job_type+'_'+topology_name.replace(' ', '_')+'.csv'\n",
    "perfp=PerfPresenter()\n",
    "perfp.create_csv_logfile(job_type, csv_fname)"
   ]
  },
  {
   "cell_type": "markdown",
   "metadata": {},
   "source": [
    "## Step 3:  Run the benchmark "
   ]
  },
  {
   "cell_type": "code",
   "execution_count": 16,
   "metadata": {},
   "outputs": [
    {
     "name": "stdout",
     "output_type": "stream",
     "text": [
      "*****************************************\n",
      "Setting OMP_NUM_THREADS environment variable for each process to be 1 in default, to avoid your system being overloaded, please further tune the variable for optimal performance in your application as needed. \n",
      "*****************************************\n"
     ]
    }
   ],
   "source": [
    "launch.main()"
   ]
  },
  {
   "cell_type": "markdown",
   "metadata": {},
   "source": [
    "## Step 4: Parse output for performance number"
   ]
  },
  {
   "cell_type": "markdown",
   "metadata": {},
   "source": [
    "#### Found the file path of the related runtime log."
   ]
  },
  {
   "cell_type": "code",
   "execution_count": 17,
   "metadata": {},
   "outputs": [
    {
     "name": "stdout",
     "output_type": "stream",
     "text": [
      "/tmp/models/docs/notebooks/perf_analysis/pytorch/logs/vgg16_infer_fp32.log\n"
     ]
    }
   ],
   "source": [
    "# identify the path of the latest log file\n",
    "configvals=config.read_config(topology_name)\n",
    "used_logpath = log_path\n",
    "print(used_logpath)"
   ]
  },
  {
   "cell_type": "markdown",
   "metadata": {},
   "source": [
    "#### Parse the logfile for performance number."
   ]
  },
  {
   "cell_type": "code",
   "execution_count": 18,
   "metadata": {},
   "outputs": [
    {
     "name": "stdout",
     "output_type": "stream",
     "text": [
      "get throughput\n",
      "inference performance 5.456 fps\n",
      "\n",
      "5.456\n",
      "5.456\n"
     ]
    }
   ],
   "source": [
    "if accuracy_only == False:\n",
    "    print(\"get throughput\")\n",
    "    val = config.throughput_keyword\n",
    "    index = int(config.throughput_index)\n",
    "    line = perfp.read_throughput(used_logpath, keyword=val, index=index)\n",
    "    if line!=None:\n",
    "        throughput=line\n",
    "        print(throughput)\n",
    "        # log the perf number\n",
    "        perfp.log_infer_perfcsv(0, throughput, 0, csv_fname, ipex_enabled = has_ipex)\n",
    "    else:\n",
    "        print(\"ERROR! can't find correct performance number from log. please check log for runtime issues\")\n",
    "else:\n",
    "    # get accuracy number and caculate throughput\n",
    "    print(\"get accuracy and throughput\")\n",
    "    #val = config.throughput_keyword\n",
    "    #index = int(config.throughput_index)\n",
    "    accuracy = perfp.read_accuracy(used_logpath)\n",
    "    iternation = perfp.read_iteration_time(used_logpath)\n",
    "    if accuracy != [] and iternation != []:\n",
    "        final_accuracy=accuracy[-1]\n",
    "        iternation_time = iternation[-1]\n",
    "        throughput = float(batch_size)/iternation_time\n",
    "        print(final_accuracy,throughput)\n",
    "        # log the perf number\n",
    "        perfp.log_infer_perfcsv(0, throughput, final_accuracy, csv_fname)\n",
    "    else:\n",
    "        print(\"ERROR! can't find correct performance number from log. please check log for runtime issues\")"
   ]
  },
  {
   "cell_type": "markdown",
   "metadata": {},
   "source": [
    "#### Optional : print out the log file for runtime issues"
   ]
  },
  {
   "cell_type": "code",
   "execution_count": 19,
   "metadata": {},
   "outputs": [
    {
     "name": "stdout",
     "output_type": "stream",
     "text": [
      "=> using pre-trained model 'vgg16'\n",
      "using CPU, this will be slow\n",
      "using ipex model to do inference\n",
      "running jit fusion path\n",
      "using dummy input data to run\n",
      "Test: [ 0/50]\tTime  0.000 ( 0.000)\tLoss 9.0608e+00 (9.0608e+00)\tAcc@1   0.00 (  0.00)\tAcc@5   0.00 (  0.00)\n",
      "Test: [10/50]\tTime  0.000 ( 0.000)\tLoss 9.0608e+00 (9.0608e+00)\tAcc@1   0.00 (  0.00)\tAcc@5   0.00 (  0.00)\n",
      "Test: [20/50]\tTime  0.000 ( 0.000)\tLoss 9.0608e+00 (9.0608e+00)\tAcc@1   0.00 (  0.00)\tAcc@5   0.00 (  0.00)\n",
      "Test: [30/50]\tTime  5.866 ( 5.866)\tLoss 9.0608e+00 (9.0608e+00)\tAcc@1   0.00 (  0.00)\tAcc@5   0.00 (  0.00)\n",
      "Test: [40/50]\tTime  5.867 ( 5.867)\tLoss 9.0608e+00 (9.0608e+00)\tAcc@1   0.00 (  0.00)\tAcc@5   0.00 (  0.00)\n",
      "inference latency 183.273 ms\n",
      "inference performance 5.456 fps\n",
      " * Acc@1 0.000 Acc@5 0.000\n",
      "DoneClosing\n"
     ]
    }
   ],
   "source": [
    "logfile = open(used_logpath)\n",
    "logout = logfile.read()\n",
    "print(logout)"
   ]
  },
  {
   "cell_type": "markdown",
   "metadata": {},
   "source": [
    "## Step 5: Draw the performance comparison diagram\n",
    ">NOTE: Please go over Section 1 on different Jupyter kernel before comparison\n"
   ]
  },
  {
   "cell_type": "code",
   "execution_count": 20,
   "metadata": {},
   "outputs": [
    {
     "data": {
      "image/png": "[encoded data removed]",
      "text/plain": [
       "<Figure size 432x288 with 1 Axes>"
      ]
     },
     "metadata": {
      "needs_background": "light"
     },
     "output_type": "display_data"
    },
    {
     "data": {
      "image/png": "[encoded data removed]",
      "text/plain": [
       "<Figure size 432x288 with 1 Axes>"
      ]
     },
     "metadata": {
      "needs_background": "light"
     },
     "output_type": "display_data"
    }
   ],
   "source": [
    "import matplotlib\n",
    "%matplotlib inline\n",
    "from profiling.profile_utils import PerfPresenter\n",
    "\n",
    "perfp=PerfPresenter(True)\n",
    "# inference  throughput\n",
    "perfp.draw_perf_diag_from_csv(csv_fname,'throughput','throughput (image/sec)', topology_name)\n",
    "perfp.draw_perf_ratio_diag_from_csv(csv_fname,'throughput','speedup', topology_name)\n",
    "if accuracy_only == True:\n",
    "    perfp.draw_perf_diag_from_csv(csv_fname,'accuracy','accuracy', topology_name)"
   ]
  },
  {
   "cell_type": "code",
   "execution_count": null,
   "metadata": {},
   "outputs": [],
   "source": []
  }
 ],
 "metadata": {
  "kernelspec": {
   "display_name": "intel-torch",
   "language": "python",
   "name": "intel-torch"
  },
  "language_info": {
   "codemirror_mode": {
    "name": "ipython",
    "version": 3
   },
   "file_extension": ".py",
   "mimetype": "text/x-python",
   "name": "python",
   "nbconvert_exporter": "python",
   "pygments_lexer": "ipython3",
   "version": "3.7.10"
  }
 },
 "nbformat": 4,
 "nbformat_minor": 2
}
